{
  "nbformat": 4,
  "nbformat_minor": 0,
  "metadata": {
    "colab": {
      "provenance": [],
      "authorship_tag": "ABX9TyN/Hp6ZR91aKuMIdAqUadw2",
      "include_colab_link": true
    },
    "kernelspec": {
      "name": "python3",
      "display_name": "Python 3"
    },
    "language_info": {
      "name": "python"
    }
  },
  "cells": [
    {
      "cell_type": "markdown",
      "metadata": {
        "id": "view-in-github",
        "colab_type": "text"
      },
      "source": [
        "<a href=\"https://colab.research.google.com/github/223t1a3105/colab-saved-data/blob/main/Untitled1.ipynb\" target=\"_parent\"><img src=\"https://colab.research.google.com/assets/colab-badge.svg\" alt=\"Open In Colab\"/></a>"
      ]
    },
    {
      "cell_type": "code",
      "execution_count": 2,
      "metadata": {
        "colab": {
          "base_uri": "https://localhost:8080/"
        },
        "id": "Q1hT1yWi8RY2",
        "outputId": "94c0d46f-5dd5-4f9e-b8cf-83ce30bb898d"
      },
      "outputs": [
        {
          "output_type": "stream",
          "name": "stdout",
          "text": [
            "[25, 12, 15]\n",
            "[7, 13, 8]\n",
            "[14, 14, 8]\n"
          ]
        }
      ],
      "source": [
        "x = [[12, 7, 8] , [3, 6, 7] , [9, 6, 3]]\n",
        "y = [[13, 5, 7] , [4, 7, 1] , [5, 8, 5]]\n",
        "result = [[0, 0, 0] , [0, 0, 0] , [0, 0, 0]]\n",
        "for i in range(len(x)):\n",
        "  for j in range(len(x[0])):\n",
        "    result[i][j] = x[i][j] + y[i][j]\n",
        "for r in result:\n",
        "  print(r)"
      ]
    }
  ]
}