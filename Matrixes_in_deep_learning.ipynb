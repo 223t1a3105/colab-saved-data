{
  "nbformat": 4,
  "nbformat_minor": 0,
  "metadata": {
    "colab": {
      "provenance": [],
      "toc_visible": true,
      "authorship_tag": "ABX9TyMC8RBDGJDJCzbGGdxqt3o5",
      "include_colab_link": true
    },
    "kernelspec": {
      "name": "python3",
      "display_name": "Python 3"
    },
    "language_info": {
      "name": "python"
    }
  },
  "cells": [
    {
      "cell_type": "markdown",
      "metadata": {
        "id": "view-in-github",
        "colab_type": "text"
      },
      "source": [
        "<a href=\"https://colab.research.google.com/github/223t1a3105/colab-saved-data/blob/main/Matrixes_in_deep_learning.ipynb\" target=\"_parent\"><img src=\"https://colab.research.google.com/assets/colab-badge.svg\" alt=\"Open In Colab\"/></a>"
      ]
    },
    {
      "cell_type": "code",
      "source": [
        "def main():\n",
        "    r, c = map(int, input().split())\n",
        "\n",
        "    # Initialize matrices A and B with zeros\n",
        "    A = []\n",
        "    B = []\n",
        "\n",
        "    # Input elements of matrix A\n",
        "    print(\"Enter elements of matrix A:\")\n",
        "    for i in range(r):\n",
        "        row = list(map(int, input().split()))\n",
        "        A.append(row)\n",
        "\n",
        "    # Input elements of matrix B\n",
        "    print(\"Enter elements of matrix B:\")\n",
        "    for i in range(r):\n",
        "        row = list(map(int, input().split()))\n",
        "        B.append(row)\n",
        "\n",
        "    # Initialize matrix for result\n",
        "    res = [[0]*c for _ in range(r)]\n",
        "\n",
        "    # Perform matrix addition\n",
        "    for i in range(r):\n",
        "        for j in range(c):\n",
        "            res[i][j] = A[i][j] + B[i][j]\n",
        "\n",
        "    # Print the result matrix\n",
        "    print(\"\\nResult of matrix addition:\")\n",
        "    for row in res:\n",
        "        print(' '.join(map(str, row)))\n",
        "\n",
        "if __name__ == \"__main__\":\n",
        "    main()"
      ],
      "metadata": {
        "colab": {
          "base_uri": "https://localhost:8080/"
        },
        "id": "wInehw1bKX8K",
        "outputId": "d0ce7362-c36e-4dad-d44a-11c0809550ae"
      },
      "execution_count": 5,
      "outputs": [
        {
          "output_type": "stream",
          "name": "stdout",
          "text": [
            "3 3\n",
            "Enter elements of matrix A:\n",
            "3 2 4\n",
            "4 5 6\n",
            "2  5 8\n",
            "Enter elements of matrix B:\n",
            "2 5 8 \n",
            "4 5 6\n",
            "8 9 7\n",
            "\n",
            "Result of matrix addition:\n",
            "5 7 12\n",
            "8 10 12\n",
            "10 14 15\n"
          ]
        }
      ]
    },
    {
      "cell_type": "code",
      "source": [
        "def main():\n",
        "    r, c = map(int, input().split())\n",
        "\n",
        "    # Initialize matrices A and B with zeros\n",
        "    A = []\n",
        "    B = []\n",
        "\n",
        "    # Input elements of matrix A\n",
        "    print(\"Enter elements of matrix A:\")\n",
        "    for i in range(r):\n",
        "        row = list(map(int, input().split()))\n",
        "        A.append(row)\n",
        "\n",
        "    # Input elements of matrix B\n",
        "    print(\"Enter elements of matrix B:\")\n",
        "    for i in range(r):\n",
        "        row = list(map(int, input().split()))\n",
        "        B.append(row)\n",
        "\n",
        "    # Initialize matrix for result\n",
        "    res = [[0]*c for _ in range(r)]\n",
        "\n",
        "    # Perform matrix multiplication\n",
        "    for i in range(r):\n",
        "        for j in range(c):\n",
        "            res[i][j] = A[i][j] * B[i][j]\n",
        "\n",
        "    # Print the result matrix\n",
        "    print(\"\\nResult of matrix mutiplication:\")\n",
        "    for row in res:\n",
        "        print(' '.join(map(str, row)))\n",
        "\n",
        "if __name__ == \"__main__\":\n",
        "    main()"
      ],
      "metadata": {
        "colab": {
          "base_uri": "https://localhost:8080/"
        },
        "id": "E-pPbjWxM0Jd",
        "outputId": "4b484953-851b-4b04-80bb-e93d6bce6912"
      },
      "execution_count": 7,
      "outputs": [
        {
          "output_type": "stream",
          "name": "stdout",
          "text": [
            "2 2\n",
            "Enter elements of matrix A:\n",
            "4 6 8\n",
            "5 6 8\n",
            "Enter elements of matrix B:\n",
            "7 5 3\n",
            "9 5 1\n",
            "\n",
            "Result of matrix mutiplication:\n",
            "28 30\n",
            "45 30\n"
          ]
        }
      ]
    },
    {
      "cell_type": "code",
      "source": [
        "subtraction of matrix"
      ],
      "metadata": {
        "id": "Y6fWWtzpWkxW"
      },
      "execution_count": null,
      "outputs": []
    },
    {
      "cell_type": "code",
      "source": [
        "def matrix_subtraction():\n",
        "    # Input dimensions of matrices\n",
        "    rows = int(input(\"Enter the number of rows: \"))\n",
        "    cols = int(input(\"Enter the number of columns: \"))\n",
        "\n",
        "    # Initialize matrices\n",
        "    matrix1 = []\n",
        "    matrix2 = []\n",
        "\n",
        "    # Input elements of the first matrix\n",
        "    print(\"Enter elements of the first matrix:\")\n",
        "    for i in range(rows):\n",
        "        row = []\n",
        "        for j in range(cols):\n",
        "            element = float(input(f\"Enter element [{i+1}][{j+1}]: \"))\n",
        "            row.append(element)\n",
        "        matrix1.append(row)\n",
        "\n",
        "    # Input elements of the second matrix\n",
        "    print(\"Enter elements of the second matrix:\")\n",
        "    for i in range(rows):\n",
        "        row = []\n",
        "        for j in range(cols):\n",
        "            element = float(input(f\"Enter element [{i+1}][{j+1}]: \"))\n",
        "            row.append(element)\n",
        "        matrix2.append(row)\n",
        "\n",
        "    # Subtract matrices\n",
        "    result_matrix = []\n",
        "    for i in range(rows):\n",
        "        row = []\n",
        "        for j in range(cols):\n",
        "            element = matrix1[i][j] - matrix2[i][j]\n",
        "            row.append(element)\n",
        "        result_matrix.append(row)\n",
        "\n",
        "    # Display the result\n",
        "    print(\"\\nResultant matrix (Matrix1 - Matrix2):\")\n",
        "    for row in result_matrix:\n",
        "        print(row)\n",
        "\n",
        "# Calling the function to perform matrix subtraction\n",
        "matrix_subtraction()"
      ],
      "metadata": {
        "colab": {
          "base_uri": "https://localhost:8080/"
        },
        "id": "cbo3ZbT9Y2Jw",
        "outputId": "725a6150-08d7-4b44-f9c3-9e731b927916"
      },
      "execution_count": 11,
      "outputs": [
        {
          "output_type": "stream",
          "name": "stdout",
          "text": [
            "Enter the number of rows: 3\n",
            "Enter the number of columns: 3\n",
            "Enter elements of the first matrix:\n",
            "Enter element [1][1]: 4\n",
            "Enter element [1][2]: 6\n",
            "Enter element [1][3]: 8\n",
            "Enter element [2][1]: 4\n",
            "Enter element [2][2]: 6\n",
            "Enter element [2][3]: 8\n",
            "Enter element [3][1]: 4\n",
            "Enter element [3][2]: 5\n",
            "Enter element [3][3]: 3\n",
            "Enter elements of the second matrix:\n",
            "Enter element [1][1]: 7\n",
            "Enter element [1][2]: 5\n",
            "Enter element [1][3]: 6\n",
            "Enter element [2][1]: 8\n",
            "Enter element [2][2]: 9\n",
            "Enter element [2][3]: 8\n",
            "Enter element [3][1]: 3\n",
            "Enter element [3][2]: 4\n",
            "Enter element [3][3]: 8\n",
            "\n",
            "Resultant matrix (Matrix1 - Matrix2):\n",
            "[-3.0, 1.0, 2.0]\n",
            "[-4.0, -3.0, 0.0]\n",
            "[1.0, 1.0, -5.0]\n"
          ]
        }
      ]
    }
  ]
}